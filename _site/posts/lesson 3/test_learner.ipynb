{
 "cells": [
  {
   "cell_type": "code",
   "execution_count": 93,
   "id": "17f19237-a083-453e-a1c5-12dd7494b171",
   "metadata": {},
   "outputs": [],
   "source": [
    "#| label: bill-ratio\n",
    "\n",
    "import string\n",
    "import torch\n",
    "import torch.nn as nn\n",
    "import torch.nn.functional as F\n",
    "from torch.utils.data import DataLoader, Dataset\n",
    "from typing import Callable\n",
    "from fastcore.all import *\n",
    "\n",
    "\n",
    "def initialize_random_parameters(input_size: int, output_size: int) -> nn.Module:\n",
    "    \"\"\"\n",
    "    Initialize a model with random weights and bias.\n",
    "    \"\"\"\n",
    "    model = nn.Linear(input_size, output_size)\n",
    "    nn.init.uniform_(model.weight, -0.1, 0.1)\n",
    "    nn.init.uniform_(model.bias, -0.1, 0.1)\n",
    "    return model\n",
    "\n",
    "class Learner:\n",
    "    \"\"\"\n",
    "    A simple learning framework for training PyTorch models.\n",
    "    \"\"\"\n",
    "    def __init__(self, \n",
    "                 model: nn.Module, \n",
    "                 loss_func: Callable, \n",
    "                 optimizer: 'Optimizer', \n",
    "                 data: DataLoader):\n",
    "        self.model = model\n",
    "        self.loss_func = loss_func\n",
    "        self.optimizer = optimizer\n",
    "        self.data = data\n",
    "\n",
    "    def fit(self, epochs: int) -> None:\n",
    "        \"\"\"\n",
    "        Fit the model to the data for a number of epochs.\n",
    "        \"\"\"\n",
    "        for epoch in range(epochs):\n",
    "            for xb, yb in self.data:\n",
    "                self.train_step(xb, yb)\n",
    "                self.optimizer.step()\n",
    "\n",
    "    def train_step(self, xb: torch.Tensor, yb: torch.Tensor) -> None:\n",
    "        \"\"\"\n",
    "        Perform a single training step: forward pass and loss calculation.\n",
    "        \"\"\"\n",
    "        preds = self.model(xb)\n",
    "        loss = self.loss_func(preds, yb)\n",
    "        loss.backward()\n",
    "        print(\"loss\", loss.mean())\n",
    "\n",
    "class Model:\n",
    "    def __init__(self, size) -> None:\n",
    "        self.weights = (torch.randn(size)*1.0).requires_grad_()\n",
    "        self.bias= (torch.randn(size)*1.0).requires_grad_()\n",
    "        self.params = self.weights, self.bias\n",
    "    \n",
    "    def __call__(self, x: torch.Tensor) -> torch.Tensor:\n",
    "        # print(x.shape, self.weights.shape, self.bias.shape)\n",
    "        # print(x.type(), self.weights.type(), self.bias.type())\n",
    "        return x @ self.weights + self.bias\n",
    "\n",
    "class Optimizer:\n",
    "    \"\"\"\n",
    "    A basic optimizer that updates model parameters using gradient descent.\n",
    "    \"\"\"\n",
    "    def __init__(self, model: 'Model', lr: float):\n",
    "        self.model = model\n",
    "        self.lr = lr\n",
    "  \n",
    "    def step(self) -> None:\n",
    "        \"\"\"\n",
    "        Update the parameters based on the gradients.\n",
    "        \"\"\"\n",
    "        for p in self.model.params:\n",
    "            p.data -= p.grad * self.lr\n",
    "            p.grad.zero_()\n",
    "\n",
    "\n"
   ]
  },
  {
   "cell_type": "code",
   "execution_count": 94,
   "id": "7796db87-b3b9-4fc7-9c31-702b31560f05",
   "metadata": {},
   "outputs": [],
   "source": [
    "# Example usage\n",
    "from torch import tensor\n",
    "\n",
    "\n",
    "input_size = (26)  # Define the input size\n",
    "\n",
    "#model = initialize_random_parameters(input_size, output_size)\n",
    "model = Model(input_size)\n",
    "optimizer = Optimizer(model, lr=0.1)\n",
    "ds = [(tensor(x*1.0),tensor(ord(y)*1.0)) for x,y in enumerate(string.ascii_lowercase)]\n",
    "# ds"
   ]
  },
  {
   "cell_type": "code",
   "execution_count": 95,
   "metadata": {},
   "outputs": [],
   "source": [
    "data = DataLoader(ds, batch_size=26, shuffle=True)\n",
    "def loss_func(preds, targets):\n",
    "    return ((preds-targets)**2).mean()\n",
    "\n",
    "learner = Learner(model, loss_func, optimizer, data)\n"
   ]
  },
  {
   "cell_type": "code",
   "execution_count": 96,
   "metadata": {},
   "outputs": [
    {
     "name": "stdout",
     "output_type": "stream",
     "text": [
      "(tensor([-1.0595,  0.5252,  1.0667,  0.1389,  0.8173,  0.3031,  0.7115,  0.9100,\n",
      "         0.6401, -0.8909, -1.7828,  1.3262,  0.4102, -0.2634, -1.0469, -0.0982,\n",
      "        -0.2595,  0.2958, -0.3669, -0.2187,  0.7747,  1.0876, -1.4512,  0.2850,\n",
      "         1.3892,  0.0906], requires_grad=True), tensor([ 0.2880, -0.2736,  1.8074,  0.3579, -0.2038, -0.0209, -0.4879, -0.9611,\n",
      "        -0.5916, -1.6469, -1.2140, -0.3337,  1.6956,  1.1160,  0.8451, -0.1683,\n",
      "         1.4993, -1.0675,  0.1393,  1.0348,  0.5034,  0.8949,  0.5711, -0.6498,\n",
      "         0.7184,  0.3145], requires_grad=True))\n",
      "loss tensor(5788.5679, grad_fn=<MeanBackward0>)\n",
      "loss tensor(3.4479e+09, grad_fn=<MeanBackward0>)\n",
      "loss tensor(2.9855e+15, grad_fn=<MeanBackward0>)\n",
      "loss tensor(1.7222e+21, grad_fn=<MeanBackward0>)\n",
      "loss tensor(6.7011e+26, grad_fn=<MeanBackward0>)\n",
      "loss tensor(3.7286e+32, grad_fn=<MeanBackward0>)\n",
      "loss tensor(inf, grad_fn=<MeanBackward0>)\n",
      "loss tensor(inf, grad_fn=<MeanBackward0>)\n",
      "loss tensor(inf, grad_fn=<MeanBackward0>)\n",
      "loss tensor(inf, grad_fn=<MeanBackward0>)\n"
     ]
    },
    {
     "data": {
      "text/plain": [
       "(tensor([-1.9110e+28, -3.2472e+28, -3.0590e+28, -2.8623e+28, -4.0101e+28,\n",
       "         -4.3960e+28, -4.7744e+28, -2.1015e+28, -3.4403e+28, -2.6720e+28,\n",
       "         -3.6305e+28, -3.8054e+27, -1.5261e+28, -5.6781e+27, -1.1430e+28,\n",
       "         -4.5835e+28, -1.3360e+28, -1.9096e+27, -9.5157e+27, -4.2055e+28,\n",
       "         -2.4815e+28, -3.8206e+28, -7.6222e+27, -1.7179e+28, -2.2938e+28,\n",
       "          3.6884e+25], requires_grad=True),\n",
       " tensor([-7.3446e+25, -7.3446e+25, -7.3446e+25, -7.3446e+25, -7.3446e+25,\n",
       "         -7.3446e+25, -7.3446e+25, -7.3446e+25, -7.3446e+25, -7.3446e+25,\n",
       "         -7.3446e+25, -7.3446e+25, -7.3446e+25, -7.3446e+25, -7.3446e+25,\n",
       "         -7.3446e+25, -7.3446e+25, -7.3446e+25, -7.3446e+25, -7.3446e+25,\n",
       "         -7.3446e+25, -7.3446e+25, -7.3446e+25, -7.3446e+25, -7.3446e+25,\n",
       "         -7.3446e+25], requires_grad=True))"
      ]
     },
     "execution_count": 96,
     "metadata": {},
     "output_type": "execute_result"
    }
   ],
   "source": [
    "print(model.params)\n",
    "learner.fit(10)\n",
    "model.params"
   ]
  },
  {
   "cell_type": "code",
   "execution_count": null,
   "metadata": {},
   "outputs": [],
   "source": []
  }
 ],
 "metadata": {
  "kernelspec": {
   "display_name": "Python 3 (ipykernel)",
   "language": "python",
   "name": "python3"
  },
  "language_info": {
   "codemirror_mode": {
    "name": "ipython",
    "version": 3
   },
   "file_extension": ".py",
   "mimetype": "text/x-python",
   "name": "python",
   "nbconvert_exporter": "python",
   "pygments_lexer": "ipython3",
   "version": "3.9.13"
  }
 },
 "nbformat": 4,
 "nbformat_minor": 5
}
